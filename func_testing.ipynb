{
 "cells": [
  {
   "cell_type": "code",
   "execution_count": 1,
   "metadata": {},
   "outputs": [],
   "source": [
    "# load packages\n",
    "from langchain.llms import OpenAI\n",
    "from langchain import PromptTemplate\n",
    "import pandas as pd\n",
    "import re"
   ]
  },
  {
   "cell_type": "code",
   "execution_count": 4,
   "metadata": {},
   "outputs": [],
   "source": [
    "# get openai api key\n",
    "def load_secret(file_path):\n",
    "    with open(file_path, 'r') as file:\n",
    "        secret = file.read().strip()\n",
    "    return secret\n",
    "\n",
    "secret_file_path = \"./secret.txt\"  # Replace with the path to your secret file if different\n",
    "\n",
    "import os\n",
    "os.environ[\"OPENAI_API_KEY\"] = load_secret(secret_file_path)"
   ]
  },
  {
   "cell_type": "code",
   "execution_count": 5,
   "metadata": {},
   "outputs": [
    {
     "name": "stderr",
     "output_type": "stream",
     "text": [
      "c:\\Users\\mitokic\\AppData\\Local\\Programs\\Python\\Python39\\lib\\site-packages\\langchain\\llms\\openai.py:169: UserWarning: You are trying to use a chat model. This way of initializing it is no longer supported. Instead, please use: `from langchain.chat_models import ChatOpenAI`\n",
      "  warnings.warn(\n",
      "c:\\Users\\mitokic\\AppData\\Local\\Programs\\Python\\Python39\\lib\\site-packages\\langchain\\llms\\openai.py:687: UserWarning: You are trying to use a chat model. This way of initializing it is no longer supported. Instead, please use: `from langchain.chat_models import ChatOpenAI`\n",
      "  warnings.warn(\n"
     ]
    }
   ],
   "source": [
    "# load model\n",
    "llm = OpenAI(temperature=0, model_name = \"gpt-3.5-turbo\")"
   ]
  },
  {
   "cell_type": "code",
   "execution_count": 19,
   "metadata": {},
   "outputs": [
    {
     "name": "stdout",
     "output_type": "stream",
     "text": [
      "\n",
      "    You are an expert data scientist, working with a pandas dataframe in Python. The name of the dataframe is `df`.\n",
      "    If a package is needed, call `import` at the top of the code.\n",
      "\n",
      "    Your task is to create a plan of steps to take to answer the question below. \n",
      "    Do not return blocks of code, only the plan of steps needed to get the answer. \n",
      "\n",
      "    This is the results of `print(df.head())`:\n",
      "    |    | Country       | Product   | Date                |   Revenue |\n",
      "|---:|:--------------|:----------|:--------------------|----------:|\n",
      "|  0 | United States | Cookies   | 2015-07-01 00:00:00 |       100 |\n",
      "|  1 | United States | Cookies   | 2015-08-01 00:00:00 |        90 |\n",
      "|  2 | United States | Cookies   | 2015-09-01 00:00:00 |        80 |\n",
      "|  3 | United States | Cookies   | 2015-10-01 00:00:00 |       110 |\n",
      "|  4 | United States | Cookies   | 2015-11-01 00:00:00 |       100 |\n",
      "\n",
      "    This is the results of `print(df.describe())`:\n",
      "    |       | Date                          |   Revenue |\n",
      "|:------|:------------------------------|----------:|\n",
      "| count | 312                           |   312     |\n",
      "| mean  | 2018-09-15 22:27:41.538461440 |   365.545 |\n",
      "| min   | 2015-07-01 00:00:00           |    75     |\n",
      "| 25%   | 2017-02-01 00:00:00           |   163     |\n",
      "| 50%   | 2018-09-16 00:00:00           |   346     |\n",
      "| 75%   | 2020-05-01 00:00:00           |   494     |\n",
      "| max   | 2021-12-01 00:00:00           |  1502     |\n",
      "| std   | nan                           |   220.964 |\n",
      "\n",
      "    This is the results of `print(df.dtypes)`:\n",
      "    |         | 0              |\n",
      "|:--------|:---------------|\n",
      "| Country | object         |\n",
      "| Product | object         |\n",
      "| Date    | datetime64[ns] |\n",
      "| Revenue | int64          |\n",
      "\n",
      "    This is the results of `print(df.columns)`:\n",
      "    Index(['Country', 'Product', 'Date', 'Revenue'], dtype='object')\n",
      "\n",
      "    Begin!\n",
      "\n",
      "    Question: calculate autocrrelation for each country and product and graph them\n",
      "    Answer:\n",
      "\n"
     ]
    }
   ],
   "source": [
    "# load data\n",
    "df = pd.read_csv('./Demo_Data.csv')\n",
    "df['Date'] = pd.to_datetime(df['Date'])\n",
    "\n",
    "# create prompt\n",
    "df_template = \"\"\"\n",
    "    You are an expert data scientist, working with a pandas dataframe in Python. The name of the dataframe is `df`.\n",
    "    If a package is needed, call `import` at the top of the code.\n",
    "\n",
    "    Your task is to create a plan of steps to take to answer the question below. \n",
    "    Do not return blocks of code, only the plan of steps needed to get the answer. \n",
    "\n",
    "    This is the results of `print(df.head())`:\n",
    "    {df_head}\n",
    "\n",
    "    This is the results of `print(df.describe())`:\n",
    "    {df_describe}\n",
    "\n",
    "    This is the results of `print(df.dtypes)`:\n",
    "    {df_dtypes}\n",
    "\n",
    "    This is the results of `print(df.columns)`:\n",
    "    {df_columns}\n",
    "\n",
    "    Begin!\n",
    "\n",
    "    Question: {input}\n",
    "    Answer:\n",
    "\"\"\"\n",
    "\n",
    "prompt_template = PromptTemplate.from_template(df_template)\n",
    "\n",
    "final_prompt = prompt_template.format(df_head = str(df.head().to_markdown()), \n",
    "                                      df_describe = str(df.describe().to_markdown()),\n",
    "                                      df_dtypes = str(df.dtypes.to_markdown()),\n",
    "                                      df_columns = str(df.columns),\n",
    "                                      input = \"calculate autocrrelation for each country and product and graph them\")\n",
    "\n",
    "print(final_prompt)\n"
   ]
  },
  {
   "cell_type": "code",
   "execution_count": 20,
   "metadata": {},
   "outputs": [
    {
     "name": "stdout",
     "output_type": "stream",
     "text": [
      "1. Group the dataframe by 'Country' and 'Product'\n",
      "2. For each group, calculate the autocorrelation of the 'Revenue' column using the pandas autocorr() function\n",
      "3. Store the autocorrelation values in a new column in the group dataframe\n",
      "4. Reset the index of the group dataframe\n",
      "5. Use seaborn or matplotlib to create a line plot for each group, with the x-axis as the lag and the y-axis as the autocorrelation value\n",
      "6. Add a legend to the plot to differentiate between the different groups (based on 'Country' and 'Product')\n",
      "7. Display the plot.\n"
     ]
    }
   ],
   "source": [
    "# call model\n",
    "answer = llm(final_prompt)\n",
    "\n",
    "formatted_answer = f\"\"\"{answer.strip()}\"\"\"\n",
    "\n",
    "print(formatted_answer)"
   ]
  },
  {
   "cell_type": "code",
   "execution_count": 21,
   "metadata": {},
   "outputs": [
    {
     "name": "stdout",
     "output_type": "stream",
     "text": [
      "\n",
      "    You are an expert data scientist, working with a pandas dataframe in Python. The name of the dataframe is `df`.\n",
      "    If a package is needed, call `import` at the top of the code.\n",
      "\n",
      "    Your task is to execute the list of steps below to answer the question below. Only write code to execute the steps, \n",
      "    inside of a python code block like ```python```, with comments to help understand what you are doing and what step this code is executing.\n",
      "    If given a choice between two or more packages to use in a step, choose the first one. \n",
      "    Any output from the code should be formatted to work in a streamlit app. \n",
      "\n",
      "    This is the results of `print(df.head())`:\n",
      "    |    | Country       | Product   | Date                |   Revenue |\n",
      "|---:|:--------------|:----------|:--------------------|----------:|\n",
      "|  0 | United States | Cookies   | 2015-07-01 00:00:00 |       100 |\n",
      "|  1 | United States | Cookies   | 2015-08-01 00:00:00 |        90 |\n",
      "|  2 | United States | Cookies   | 2015-09-01 00:00:00 |        80 |\n",
      "|  3 | United States | Cookies   | 2015-10-01 00:00:00 |       110 |\n",
      "|  4 | United States | Cookies   | 2015-11-01 00:00:00 |       100 |\n",
      "\n",
      "    This is the results of `print(df.describe())`:\n",
      "    |       | Date                          |   Revenue |\n",
      "|:------|:------------------------------|----------:|\n",
      "| count | 312                           |   312     |\n",
      "| mean  | 2018-09-15 22:27:41.538461440 |   365.545 |\n",
      "| min   | 2015-07-01 00:00:00           |    75     |\n",
      "| 25%   | 2017-02-01 00:00:00           |   163     |\n",
      "| 50%   | 2018-09-16 00:00:00           |   346     |\n",
      "| 75%   | 2020-05-01 00:00:00           |   494     |\n",
      "| max   | 2021-12-01 00:00:00           |  1502     |\n",
      "| std   | nan                           |   220.964 |\n",
      "\n",
      "    This is the results of `print(df.dtypes)`:\n",
      "    |         | 0              |\n",
      "|:--------|:---------------|\n",
      "| Country | object         |\n",
      "| Product | object         |\n",
      "| Date    | datetime64[ns] |\n",
      "| Revenue | int64          |\n",
      "\n",
      "    This is the results of `print(df.columns)`:\n",
      "    Index(['Country', 'Product', 'Date', 'Revenue'], dtype='object')\n",
      "\n",
      "    Begin!\n",
      "\n",
      "    Question: calculate autocrrelation for each country and product and graph them\n",
      "    Steps: 1. Group the dataframe by 'Country' and 'Product'\n",
      "2. For each group, calculate the autocorrelation of the 'Revenue' column using the pandas autocorr() function\n",
      "3. Store the autocorrelation values in a new column in the group dataframe\n",
      "4. Reset the index of the group dataframe\n",
      "5. Use seaborn or matplotlib to create a line plot for each group, with the x-axis as the lag and the y-axis as the autocorrelation value\n",
      "6. Add a legend to the plot to differentiate between the different groups (based on 'Country' and 'Product')\n",
      "7. Display the plot.\n",
      "    Answer:\n",
      "    \n"
     ]
    }
   ],
   "source": [
    "# load data\n",
    "df = pd.read_csv('./Demo_Data.csv')\n",
    "df['Date'] = pd.to_datetime(df['Date'])\n",
    "\n",
    "# create prompt\n",
    "df_template = \"\"\"\n",
    "    You are an expert data scientist, working with a pandas dataframe in Python. The name of the dataframe is `df`.\n",
    "    If a package is needed, call `import` at the top of the code.\n",
    "\n",
    "    Your task is to execute the list of steps below to answer the question below. Only write code to execute the steps, \n",
    "    inside of a python code block like ```python```, with comments to help understand what you are doing and what step this code is executing.\n",
    "    If given a choice between two or more packages to use in a step, choose the first one. \n",
    "    Any output from the code should be formatted to work in a streamlit app. \n",
    "\n",
    "    This is the results of `print(df.head())`:\n",
    "    {df_head}\n",
    "\n",
    "    This is the results of `print(df.describe())`:\n",
    "    {df_describe}\n",
    "\n",
    "    This is the results of `print(df.dtypes)`:\n",
    "    {df_dtypes}\n",
    "\n",
    "    This is the results of `print(df.columns)`:\n",
    "    {df_columns}\n",
    "\n",
    "    Begin!\n",
    "\n",
    "    Question: {input}\n",
    "    Steps: {steps}\n",
    "    Answer:\n",
    "    \"\"\"\n",
    "\n",
    "prompt_template = PromptTemplate.from_template(df_template)\n",
    "\n",
    "final_prompt = prompt_template.format(df_head = str(df.head().to_markdown()), \n",
    "                                      df_describe = str(df.describe().to_markdown()),\n",
    "                                      df_dtypes = str(df.dtypes.to_markdown()),\n",
    "                                      df_columns = str(df.columns),\n",
    "                                      steps = formatted_answer,\n",
    "                                      input = \"calculate autocrrelation for each country and product and graph them\")\n",
    "\n",
    "print(final_prompt)\n"
   ]
  },
  {
   "cell_type": "code",
   "execution_count": 22,
   "metadata": {},
   "outputs": [
    {
     "name": "stdout",
     "output_type": "stream",
     "text": [
      "```python\n",
      "# Step 1: Group the dataframe by 'Country' and 'Product'\n",
      "grouped_df = df.groupby(['Country', 'Product'])\n",
      "\n",
      "# Step 2: For each group, calculate the autocorrelation of the 'Revenue' column using the pandas autocorr() function\n",
      "autocorr_values = grouped_df['Revenue'].apply(lambda x: x.autocorr())\n",
      "\n",
      "# Step 3: Store the autocorrelation values in a new column in the group dataframe\n",
      "grouped_df['Autocorrelation'] = autocorr_values\n",
      "\n",
      "# Step 4: Reset the index of the group dataframe\n",
      "grouped_df = grouped_df.reset_index()\n",
      "\n",
      "# Step 5: Use seaborn or matplotlib to create a line plot for each group, with the x-axis as the lag and the y-axis as the autocorrelation value\n",
      "import seaborn as sns\n",
      "import matplotlib.pyplot as plt\n",
      "\n",
      "sns.set_style('darkgrid')\n",
      "fig, ax = plt.subplots(figsize=(10, 6))\n",
      "\n",
      "for name, group in grouped_df.groupby(['Country', 'Product']):\n",
      "    ax.plot(group.index, group['Autocorrelation'], label=name)\n",
      "\n",
      "# Step 6: Add a legend to the plot to differentiate between the different groups (based on 'Country' and 'Product')\n",
      "ax.legend(title='Country, Product')\n",
      "\n",
      "# Step 7: Display the plot.\n",
      "st.pyplot(fig)\n",
      "```\n"
     ]
    }
   ],
   "source": [
    "# call model\n",
    "answer = llm(final_prompt)\n",
    "\n",
    "formatted_answer = f\"\"\"{answer.strip()}\"\"\"\n",
    "\n",
    "print(formatted_answer)"
   ]
  },
  {
   "cell_type": "code",
   "execution_count": 23,
   "metadata": {},
   "outputs": [
    {
     "ename": "SyntaxError",
     "evalue": "invalid syntax (<string>, line 1)",
     "output_type": "error",
     "traceback": [
      "Traceback \u001b[1;36m(most recent call last)\u001b[0m:\n",
      "\u001b[0m  File \u001b[0;32m~\\AppData\\Roaming\\Python\\Python39\\site-packages\\IPython\\core\\interactiveshell.py:3505\u001b[0m in \u001b[0;35mrun_code\u001b[0m\n    exec(code_obj, self.user_global_ns, self.user_ns)\u001b[0m\n",
      "\u001b[1;36m  Cell \u001b[1;32mIn[23], line 1\u001b[1;36m\n\u001b[1;33m    exec(formatted_answer)\u001b[1;36m\n",
      "\u001b[1;36m  File \u001b[1;32m<string>:1\u001b[1;36m\u001b[0m\n\u001b[1;33m    ```python\u001b[0m\n\u001b[1;37m    ^\u001b[0m\n\u001b[1;31mSyntaxError\u001b[0m\u001b[1;31m:\u001b[0m invalid syntax\n"
     ]
    }
   ],
   "source": [
    "exec(formatted_answer)"
   ]
  },
  {
   "cell_type": "code",
   "execution_count": null,
   "metadata": {},
   "outputs": [],
   "source": []
  }
 ],
 "metadata": {
  "kernelspec": {
   "display_name": "Python 3",
   "language": "python",
   "name": "python3"
  },
  "language_info": {
   "codemirror_mode": {
    "name": "ipython",
    "version": 3
   },
   "file_extension": ".py",
   "mimetype": "text/x-python",
   "name": "python",
   "nbconvert_exporter": "python",
   "pygments_lexer": "ipython3",
   "version": "3.9.0"
  },
  "orig_nbformat": 4
 },
 "nbformat": 4,
 "nbformat_minor": 2
}
